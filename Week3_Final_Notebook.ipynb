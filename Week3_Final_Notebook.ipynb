{
    "nbformat_minor": 1, 
    "cells": [
        {
            "source": "# My Jupyter Notebook on IBM Data Science Experience", 
            "cell_type": "markdown", 
            "metadata": {
                "collapsed": true
            }
        }, 
        {
            "source": "**Arpit**  \n Project Manager", 
            "cell_type": "markdown", 
            "metadata": {}
        }, 
        {
            "source": "*I am interested in data science because of its application in machine learing and advance analytics. I would like to gain skills in this area so that I can contribute in field of predictive analytics*", 
            "cell_type": "markdown", 
            "metadata": {}
        }, 
        {
            "source": "### Below code will import the panda module. \n### Csv data from the url is read and imported into pandas dataframe\n### Display first 5 rows using  head method.", 
            "cell_type": "markdown", 
            "metadata": {}
        }, 
        {
            "execution_count": 14, 
            "cell_type": "code", 
            "metadata": {}, 
            "outputs": [
                {
                    "execution_count": 14, 
                    "metadata": {}, 
                    "data": {
                        "text/html": "<div>\n<style scoped>\n    .dataframe tbody tr th:only-of-type {\n        vertical-align: middle;\n    }\n\n    .dataframe tbody tr th {\n        vertical-align: top;\n    }\n\n    .dataframe thead th {\n        text-align: right;\n    }\n</style>\n<table border=\"1\" class=\"dataframe\">\n  <thead>\n    <tr style=\"text-align: right;\">\n      <th></th>\n      <th>Country</th>\n      <th>Region</th>\n    </tr>\n  </thead>\n  <tbody>\n    <tr>\n      <th>0</th>\n      <td>Algeria</td>\n      <td>AFRICA</td>\n    </tr>\n    <tr>\n      <th>1</th>\n      <td>Angola</td>\n      <td>AFRICA</td>\n    </tr>\n    <tr>\n      <th>2</th>\n      <td>Benin</td>\n      <td>AFRICA</td>\n    </tr>\n    <tr>\n      <th>3</th>\n      <td>Botswana</td>\n      <td>AFRICA</td>\n    </tr>\n    <tr>\n      <th>4</th>\n      <td>Burkina</td>\n      <td>AFRICA</td>\n    </tr>\n  </tbody>\n</table>\n</div>", 
                        "text/plain": "    Country  Region\n0   Algeria  AFRICA\n1    Angola  AFRICA\n2     Benin  AFRICA\n3  Botswana  AFRICA\n4   Burkina  AFRICA"
                    }, 
                    "output_type": "execute_result"
                }
            ], 
            "source": "import pandas as pd\ndf=pd.read_csv(\"https://raw.githubusercontent.com/cs109/2014_data/master/countries.csv\")\ndf.head()"
        }, 
        {
            "source": "\n \nhorizontal rule\n \n---\n\nNumbered List\n\n    1. Item 1\n    2. Item 2\n    3. Item 3\n\n[Google Search Page](https://www.google.com)\n\nImage\n\n![alt text](https://cdn.computerworlduk.com/cmsdata/slideshow/3585847/ibm_watson_by_clockready_thumb1200_16-9.png \"IBM Watson\")", 
            "cell_type": "markdown", 
            "metadata": {}
        }
    ], 
    "metadata": {
        "kernelspec": {
            "display_name": "Python 3.5", 
            "name": "python3", 
            "language": "python"
        }, 
        "language_info": {
            "mimetype": "text/x-python", 
            "nbconvert_exporter": "python", 
            "version": "3.5.5", 
            "name": "python", 
            "file_extension": ".py", 
            "pygments_lexer": "ipython3", 
            "codemirror_mode": {
                "version": 3, 
                "name": "ipython"
            }
        }
    }, 
    "nbformat": 4
}